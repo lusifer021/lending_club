{
  "nbformat": 4,
  "nbformat_minor": 0,
  "metadata": {
    "colab": {
      "provenance": []
    },
    "kernelspec": {
      "name": "python3",
      "display_name": "Python 3"
    },
    "language_info": {
      "name": "python"
    }
  },
  "cells": [
    {
      "cell_type": "code",
      "execution_count": null,
      "metadata": {
        "id": "GeCM8x89lq71"
      },
      "outputs": [],
      "source": [
        "import pandas as pd\n",
        "import numpy as np\n",
        "import matplotlib.pyplot as plt\n",
        "import seaborn as sns"
      ]
    },
    {
      "cell_type": "code",
      "source": [
        "df = pd.read_csv(\"lending_club_loan_two.csv\")"
      ],
      "metadata": {
        "id": "kqHuy11El5J7"
      },
      "execution_count": null,
      "outputs": []
    },
    {
      "cell_type": "code",
      "source": [
        "df.head()"
      ],
      "metadata": {
        "id": "iOMIAduVnLLX"
      },
      "execution_count": null,
      "outputs": []
    },
    {
      "cell_type": "code",
      "source": [
        "df.isnull().sum()"
      ],
      "metadata": {
        "colab": {
          "base_uri": "https://localhost:8080/"
        },
        "id": "yQaXaKVrn2vV",
        "outputId": "f5a95c45-b3c0-4741-ef56-f1c871130820"
      },
      "execution_count": null,
      "outputs": [
        {
          "output_type": "execute_result",
          "data": {
            "text/plain": [
              "Unnamed: 0.2                0\n",
              "Unnamed: 0.1                0\n",
              "Unnamed: 0                  0\n",
              "loan_amnt                   0\n",
              "term                        0\n",
              "int_rate                    0\n",
              "installment                 0\n",
              "grade                       0\n",
              "sub_grade                   0\n",
              "emp_title               22927\n",
              "emp_length                  0\n",
              "home_ownership              0\n",
              "annual_inc                  0\n",
              "verification_status         0\n",
              "issue_d                     0\n",
              "loan_status                 0\n",
              "purpose                     0\n",
              "title                    1755\n",
              "dti                         0\n",
              "earliest_cr_line            0\n",
              "open_acc                    0\n",
              "pub_rec                     0\n",
              "revol_bal                   0\n",
              "revol_util                276\n",
              "total_acc                   0\n",
              "initial_list_status         0\n",
              "application_type            0\n",
              "mort_acc                37795\n",
              "pub_rec_bankruptcies      535\n",
              "address                     0\n",
              "year                        0\n",
              "month                       0\n",
              "dtype: int64"
            ]
          },
          "metadata": {},
          "execution_count": 110
        }
      ]
    },
    {
      "cell_type": "code",
      "source": [
        "df.describe().transpose()"
      ],
      "metadata": {
        "id": "gFvCWKClpkSt"
      },
      "execution_count": null,
      "outputs": []
    },
    {
      "cell_type": "code",
      "source": [
        "df"
      ],
      "metadata": {
        "id": "J1oxdo41iTKo"
      },
      "execution_count": null,
      "outputs": []
    },
    {
      "cell_type": "code",
      "source": [
        "df = df.drop(['Unnamed: 0' , 'Unnamed: 0.1' , 'Unnamed: 0.2'] , axis = 1)"
      ],
      "metadata": {
        "id": "tJ6OkHRaU6DR"
      },
      "execution_count": null,
      "outputs": []
    },
    {
      "cell_type": "code",
      "source": [
        "df['loan_status'].unique()"
      ],
      "metadata": {
        "colab": {
          "base_uri": "https://localhost:8080/"
        },
        "id": "9EUOORKlppW-",
        "outputId": "f4b4445c-1d6e-4457-9562-b5a069bdc840"
      },
      "execution_count": null,
      "outputs": [
        {
          "output_type": "execute_result",
          "data": {
            "text/plain": [
              "array([0, 1], dtype=int64)"
            ]
          },
          "metadata": {},
          "execution_count": 91
        }
      ]
    },
    {
      "cell_type": "code",
      "source": [
        "d = {'Fully Paid' : 0 , 'Charged Off' : 1}\n",
        "df['loan_status'] = df['loan_status'].map(d)"
      ],
      "metadata": {
        "id": "hOv-DfJA1viq"
      },
      "execution_count": null,
      "outputs": []
    },
    {
      "cell_type": "code",
      "source": [
        "df['loan_status'].unique()"
      ],
      "metadata": {
        "colab": {
          "base_uri": "https://localhost:8080/"
        },
        "id": "NO0bawO62sBY",
        "outputId": "2c7a18e8-4a19-4afd-8761-c7748c4f68b2"
      },
      "execution_count": null,
      "outputs": [
        {
          "output_type": "execute_result",
          "data": {
            "text/plain": [
              "array([0, 1], dtype=int64)"
            ]
          },
          "metadata": {},
          "execution_count": 149
        }
      ]
    },
    {
      "cell_type": "code",
      "source": [
        "df['term'].unique()"
      ],
      "metadata": {
        "colab": {
          "base_uri": "https://localhost:8080/"
        },
        "id": "3zY7uy40rXAb",
        "outputId": "30ba01d7-400e-4d37-d73e-41bd821ab552"
      },
      "execution_count": null,
      "outputs": [
        {
          "output_type": "execute_result",
          "data": {
            "text/plain": [
              "array([nan])"
            ]
          },
          "metadata": {},
          "execution_count": 150
        }
      ]
    },
    {
      "cell_type": "code",
      "source": [
        "d = {' 36 months' : 0 , ' 60 months' : 1 }\n",
        "df['term'] = df['term'].map(d)"
      ],
      "metadata": {
        "id": "KN7PiUau8E-7"
      },
      "execution_count": null,
      "outputs": []
    },
    {
      "cell_type": "code",
      "source": [
        "df['grade'].unique()"
      ],
      "metadata": {
        "colab": {
          "base_uri": "https://localhost:8080/"
        },
        "id": "4AxPo2Owrw_y",
        "outputId": "15c847e1-a2e6-4101-9960-fa5dbcceaa3f"
      },
      "execution_count": null,
      "outputs": [
        {
          "output_type": "execute_result",
          "data": {
            "text/plain": [
              "array([1, 0, 2, 4, 3, 5, 6], dtype=int64)"
            ]
          },
          "metadata": {},
          "execution_count": 47
        }
      ]
    },
    {
      "cell_type": "code",
      "source": [
        "d = {'B' : 1, 'A' : 0, 'C' : 2, 'E' : 4, 'D' : 3, 'F' : 5, 'G' : 6 }\n",
        "df['grade'] = df['grade'].map(d)"
      ],
      "metadata": {
        "id": "EmuWAZSJ8qP7"
      },
      "execution_count": null,
      "outputs": []
    },
    {
      "cell_type": "code",
      "source": [],
      "metadata": {
        "id": "t0cRzMvQ9JFe"
      },
      "execution_count": null,
      "outputs": []
    },
    {
      "cell_type": "code",
      "source": [
        "df['sub_grade'].unique()"
      ],
      "metadata": {
        "colab": {
          "base_uri": "https://localhost:8080/"
        },
        "id": "kODbNDTZshVl",
        "outputId": "f2174b60-4e73-4aaa-96d1-965bde05e573"
      },
      "execution_count": null,
      "outputs": [
        {
          "output_type": "execute_result",
          "data": {
            "text/plain": [
              "array([ 0,  1,  2,  3,  4,  5,  6,  7,  8,  9, 10, 11, 12, 13, 14, 15, 16,\n",
              "       17, 18, 19, 20, 21, 22, 23, 24, 25, 26, 27, 28, 29, 30, 31, 32, 33,\n",
              "       34], dtype=int64)"
            ]
          },
          "metadata": {},
          "execution_count": 48
        }
      ]
    },
    {
      "cell_type": "code",
      "source": [
        "d = {'B4' : 0 , 'B5' : 1, 'B3' : 2, 'A2' :3, 'C5' :4, 'C3' : 5, 'A1' : 6, 'B2' : 7, 'C1' : 8, 'A5' : 9, 'E4' : 10,\n",
        "       'A4' : 11, 'A3' : 12, 'D1' : 13, 'C2' :14, 'B1' : 15, 'D3' : 16, 'D5' : 17, 'D2' :18, 'E1' : 19, 'E2' : 20, 'E5' :21,\n",
        "       'F4':22, 'E3' : 23, 'D4' : 24, 'G1' : 25, 'F5' : 26, 'G2' :27, 'C4' :28, 'F1' :29, 'F3' : 30, 'G5' :31, 'G4' :32,\n",
        "       'F2' : 33, 'G3' : 34}\n",
        "df['sub_grade'] = df['sub_grade'].map(d)       "
      ],
      "metadata": {
        "id": "odwkp63N9PHp"
      },
      "execution_count": null,
      "outputs": []
    },
    {
      "cell_type": "code",
      "source": [
        "df.to_csv('lending_club_loan_two.csv')"
      ],
      "metadata": {
        "id": "mssclPBh-Pzq"
      },
      "execution_count": null,
      "outputs": []
    },
    {
      "cell_type": "code",
      "source": [
        "df"
      ],
      "metadata": {
        "id": "936W0cecnfgk"
      },
      "execution_count": null,
      "outputs": []
    },
    {
      "cell_type": "code",
      "source": [
        "df[['grade' , 'sub_grade']]"
      ],
      "metadata": {
        "colab": {
          "base_uri": "https://localhost:8080/",
          "height": 424
        },
        "id": "AVyRpRfBswHM",
        "outputId": "1116f188-cea2-41ec-9ce6-f6dd5f85f384"
      },
      "execution_count": null,
      "outputs": [
        {
          "output_type": "execute_result",
          "data": {
            "text/plain": [
              "        grade  sub_grade\n",
              "0           1          0\n",
              "1           1          1\n",
              "2           1          2\n",
              "3           0          3\n",
              "4           2          4\n",
              "...       ...        ...\n",
              "396025      1          0\n",
              "396026      2          8\n",
              "396027      1         15\n",
              "396028      2         14\n",
              "396029      2         14\n",
              "\n",
              "[396030 rows x 2 columns]"
            ],
            "text/html": [
              "<div>\n",
              "<style scoped>\n",
              "    .dataframe tbody tr th:only-of-type {\n",
              "        vertical-align: middle;\n",
              "    }\n",
              "\n",
              "    .dataframe tbody tr th {\n",
              "        vertical-align: top;\n",
              "    }\n",
              "\n",
              "    .dataframe thead th {\n",
              "        text-align: right;\n",
              "    }\n",
              "</style>\n",
              "<table border=\"1\" class=\"dataframe\">\n",
              "  <thead>\n",
              "    <tr style=\"text-align: right;\">\n",
              "      <th></th>\n",
              "      <th>grade</th>\n",
              "      <th>sub_grade</th>\n",
              "    </tr>\n",
              "  </thead>\n",
              "  <tbody>\n",
              "    <tr>\n",
              "      <th>0</th>\n",
              "      <td>1</td>\n",
              "      <td>0</td>\n",
              "    </tr>\n",
              "    <tr>\n",
              "      <th>1</th>\n",
              "      <td>1</td>\n",
              "      <td>1</td>\n",
              "    </tr>\n",
              "    <tr>\n",
              "      <th>2</th>\n",
              "      <td>1</td>\n",
              "      <td>2</td>\n",
              "    </tr>\n",
              "    <tr>\n",
              "      <th>3</th>\n",
              "      <td>0</td>\n",
              "      <td>3</td>\n",
              "    </tr>\n",
              "    <tr>\n",
              "      <th>4</th>\n",
              "      <td>2</td>\n",
              "      <td>4</td>\n",
              "    </tr>\n",
              "    <tr>\n",
              "      <th>...</th>\n",
              "      <td>...</td>\n",
              "      <td>...</td>\n",
              "    </tr>\n",
              "    <tr>\n",
              "      <th>396025</th>\n",
              "      <td>1</td>\n",
              "      <td>0</td>\n",
              "    </tr>\n",
              "    <tr>\n",
              "      <th>396026</th>\n",
              "      <td>2</td>\n",
              "      <td>8</td>\n",
              "    </tr>\n",
              "    <tr>\n",
              "      <th>396027</th>\n",
              "      <td>1</td>\n",
              "      <td>15</td>\n",
              "    </tr>\n",
              "    <tr>\n",
              "      <th>396028</th>\n",
              "      <td>2</td>\n",
              "      <td>14</td>\n",
              "    </tr>\n",
              "    <tr>\n",
              "      <th>396029</th>\n",
              "      <td>2</td>\n",
              "      <td>14</td>\n",
              "    </tr>\n",
              "  </tbody>\n",
              "</table>\n",
              "<p>396030 rows × 2 columns</p>\n",
              "</div>"
            ]
          },
          "metadata": {},
          "execution_count": 121
        }
      ]
    },
    {
      "cell_type": "code",
      "source": [
        "df['emp_title']"
      ],
      "metadata": {
        "colab": {
          "base_uri": "https://localhost:8080/"
        },
        "id": "N3N8UMPutDZh",
        "outputId": "334ab21c-740e-43c0-9554-387da4215e36"
      },
      "execution_count": null,
      "outputs": [
        {
          "output_type": "execute_result",
          "data": {
            "text/plain": [
              "0                        Marketing\n",
              "1                  Credit analyst \n",
              "2                     Statistician\n",
              "3                  Client Advocate\n",
              "4          Destiny Management Inc.\n",
              "                    ...           \n",
              "396025            licensed bankere\n",
              "396026                       Agent\n",
              "396027                City Carrier\n",
              "396028        Gracon Services, Inc\n",
              "396029    Internal Revenue Service\n",
              "Name: emp_title, Length: 396030, dtype: object"
            ]
          },
          "metadata": {},
          "execution_count": 29
        }
      ]
    },
    {
      "cell_type": "code",
      "source": [
        "df['emp_length'].unique()"
      ],
      "metadata": {
        "colab": {
          "base_uri": "https://localhost:8080/"
        },
        "id": "f8Alq5MXthcD",
        "outputId": "d71fd752-96a3-4db3-a46a-574cc9e84726"
      },
      "execution_count": null,
      "outputs": [
        {
          "output_type": "execute_result",
          "data": {
            "text/plain": [
              "array([11.,  5.,  1.,  7., 10.,  3.,  4.,  9.,  8.,  6.,  2.,  0.])"
            ]
          },
          "metadata": {},
          "execution_count": 49
        }
      ]
    },
    {
      "cell_type": "code",
      "source": [
        "df['emp_length'] = df['emp_length'].fillna(0)"
      ],
      "metadata": {
        "id": "yxyeQ41ox8I_"
      },
      "execution_count": null,
      "outputs": []
    },
    {
      "cell_type": "code",
      "source": [
        "d = {'10+ years'  : 11, '4 years' : 5, '< 1 year' : 1, '6 years' : 7, '9 years' : 10,\n",
        "       '2 years' :3, '3 years' : 4, '8 years' : 9 , '7 years' : 8, '5 years' : 6, '1 year' : 2,\n",
        "       }"
      ],
      "metadata": {
        "id": "KIgzqyQBPakt"
      },
      "execution_count": null,
      "outputs": []
    },
    {
      "cell_type": "code",
      "source": [
        "df['emp_length'] = df['emp_length'].map(d)"
      ],
      "metadata": {
        "id": "xtWL08rQ1w_p"
      },
      "execution_count": null,
      "outputs": []
    },
    {
      "cell_type": "code",
      "source": [
        "df['home_ownership'].unique()"
      ],
      "metadata": {
        "colab": {
          "base_uri": "https://localhost:8080/"
        },
        "id": "PUTcQ9jyt5as",
        "outputId": "39261f3c-694e-4649-e603-8176ecd663c5"
      },
      "execution_count": null,
      "outputs": [
        {
          "output_type": "execute_result",
          "data": {
            "text/plain": [
              "array([0., 6., 2., 3., 4., 5.])"
            ]
          },
          "metadata": {},
          "execution_count": 66
        }
      ]
    },
    {
      "cell_type": "code",
      "source": [
        "d = {'RENT' : 0 , 'MORTAGE' : 1 , 'OWN' : 2 , 'OTHER' : 3 , 'NONE' : 4 , 'ANY' : 5}"
      ],
      "metadata": {
        "id": "SqYn_cR22nVl"
      },
      "execution_count": null,
      "outputs": []
    },
    {
      "cell_type": "code",
      "source": [
        "df['home_ownership'] = df['home_ownership'].map(d)"
      ],
      "metadata": {
        "id": "Yy9TDnZ2P_ZI"
      },
      "execution_count": null,
      "outputs": []
    },
    {
      "cell_type": "code",
      "source": [
        "df['home_ownership'] = df['home_ownership'].fillna(6)"
      ],
      "metadata": {
        "id": "Lr_443H9QuzY"
      },
      "execution_count": null,
      "outputs": []
    },
    {
      "cell_type": "code",
      "source": [],
      "metadata": {
        "id": "L3fH6wJOQek_"
      },
      "execution_count": null,
      "outputs": []
    },
    {
      "cell_type": "code",
      "source": [
        "df['annual_inc']"
      ],
      "metadata": {
        "colab": {
          "base_uri": "https://localhost:8080/"
        },
        "id": "tlF100c7uTAy",
        "outputId": "e567b8dc-e4e4-404a-9091-4f4fac91cb4c"
      },
      "execution_count": null,
      "outputs": [
        {
          "output_type": "execute_result",
          "data": {
            "text/plain": [
              "0         117000.0\n",
              "1          65000.0\n",
              "2          43057.0\n",
              "3          54000.0\n",
              "4          55000.0\n",
              "            ...   \n",
              "396025     40000.0\n",
              "396026    110000.0\n",
              "396027     56500.0\n",
              "396028     64000.0\n",
              "396029     42996.0\n",
              "Name: annual_inc, Length: 396030, dtype: float64"
            ]
          },
          "metadata": {},
          "execution_count": 67
        }
      ]
    },
    {
      "cell_type": "code",
      "source": [
        "df['verification_status'].unique()"
      ],
      "metadata": {
        "colab": {
          "base_uri": "https://localhost:8080/"
        },
        "id": "cb1PvFh0ufna",
        "outputId": "5df72b14-0da3-48b0-f7d3-bb572b1b5c07"
      },
      "execution_count": null,
      "outputs": [
        {
          "output_type": "execute_result",
          "data": {
            "text/plain": [
              "array([0, 1, 2], dtype=int64)"
            ]
          },
          "metadata": {},
          "execution_count": 71
        }
      ]
    },
    {
      "cell_type": "code",
      "source": [
        "d = {'Not Verified' : 0 , 'Source Verified' : 1 , 'Verified' : 2}"
      ],
      "metadata": {
        "id": "CY72ruPzMR9A"
      },
      "execution_count": null,
      "outputs": []
    },
    {
      "cell_type": "code",
      "source": [
        "df['verification_status'] =  df['verification_status'].map(d)"
      ],
      "metadata": {
        "id": "FKAxbEXMM3Ka"
      },
      "execution_count": null,
      "outputs": []
    },
    {
      "cell_type": "code",
      "source": [
        "df['issue_d']"
      ],
      "metadata": {
        "colab": {
          "base_uri": "https://localhost:8080/"
        },
        "id": "GlRrVY4auzrz",
        "outputId": "81943561-07b2-43f0-bf01-00468b24d9c6"
      },
      "execution_count": null,
      "outputs": [
        {
          "output_type": "execute_result",
          "data": {
            "text/plain": [
              "0         Jan-2015\n",
              "1         Jan-2015\n",
              "2         Jan-2015\n",
              "3         Nov-2014\n",
              "4         Apr-2013\n",
              "            ...   \n",
              "396025    Oct-2015\n",
              "396026    Feb-2015\n",
              "396027    Oct-2013\n",
              "396028    Aug-2012\n",
              "396029    Jun-2010\n",
              "Name: issue_d, Length: 396030, dtype: object"
            ]
          },
          "metadata": {},
          "execution_count": 30
        }
      ]
    },
    {
      "cell_type": "code",
      "source": [
        "df['issue_d'] = pd.to_datetime(df['issue_d'])"
      ],
      "metadata": {
        "id": "HAJMQJ-DN52w"
      },
      "execution_count": null,
      "outputs": []
    },
    {
      "cell_type": "code",
      "source": [
        "df['issue_d']"
      ],
      "metadata": {
        "colab": {
          "base_uri": "https://localhost:8080/"
        },
        "id": "n0MBD90dRGS8",
        "outputId": "678c4a83-c966-43b1-f741-414af1748e79"
      },
      "execution_count": null,
      "outputs": [
        {
          "output_type": "execute_result",
          "data": {
            "text/plain": [
              "0        2015-01-01\n",
              "1        2015-01-01\n",
              "2        2015-01-01\n",
              "3        2014-11-01\n",
              "4        2013-04-01\n",
              "            ...    \n",
              "396025   2015-10-01\n",
              "396026   2015-02-01\n",
              "396027   2013-10-01\n",
              "396028   2012-08-01\n",
              "396029   2010-06-01\n",
              "Name: issue_d, Length: 396030, dtype: datetime64[ns]"
            ]
          },
          "metadata": {},
          "execution_count": 77
        }
      ]
    },
    {
      "cell_type": "code",
      "source": [
        "type(df['issue_d'][0])"
      ],
      "metadata": {
        "colab": {
          "base_uri": "https://localhost:8080/"
        },
        "id": "TSm_oZkWRT3A",
        "outputId": "5ae9549a-3c09-4f9d-da52-b9184c97aab3"
      },
      "execution_count": null,
      "outputs": [
        {
          "output_type": "execute_result",
          "data": {
            "text/plain": [
              "pandas._libs.tslibs.timestamps.Timestamp"
            ]
          },
          "metadata": {},
          "execution_count": 78
        }
      ]
    },
    {
      "cell_type": "code",
      "source": [
        "df['year'] = df['issue_d'].apply(lambda date : date.year )\n",
        "df['month'] = df['issue_d'].apply(lambda date : date.month )"
      ],
      "metadata": {
        "id": "pNkRYNQsRrbi"
      },
      "execution_count": null,
      "outputs": []
    },
    {
      "cell_type": "code",
      "source": [
        "df['month']"
      ],
      "metadata": {
        "colab": {
          "base_uri": "https://localhost:8080/"
        },
        "id": "mqnio_0BS3YH",
        "outputId": "af78cda8-614e-4c73-aefe-de7533009438"
      },
      "execution_count": null,
      "outputs": [
        {
          "output_type": "execute_result",
          "data": {
            "text/plain": [
              "0          1\n",
              "1          1\n",
              "2          1\n",
              "3         11\n",
              "4          4\n",
              "          ..\n",
              "396025    10\n",
              "396026     2\n",
              "396027    10\n",
              "396028     8\n",
              "396029     6\n",
              "Name: month, Length: 396030, dtype: int64"
            ]
          },
          "metadata": {},
          "execution_count": 82
        }
      ]
    },
    {
      "cell_type": "code",
      "source": [
        "df['purpose'].unique()"
      ],
      "metadata": {
        "colab": {
          "base_uri": "https://localhost:8080/"
        },
        "id": "irxHbXTSvgZ6",
        "outputId": "094dfc58-c8cf-44c1-ba56-3107f5ef4fbe"
      },
      "execution_count": null,
      "outputs": [
        {
          "output_type": "execute_result",
          "data": {
            "text/plain": [
              "array([ 0,  1,  2,  3,  4,  5,  6,  7,  8,  9, 10, 11, 12, 13],\n",
              "      dtype=int64)"
            ]
          },
          "metadata": {},
          "execution_count": 100
        }
      ]
    },
    {
      "cell_type": "code",
      "source": [
        "d = {'vacation' : 0 , 'debt_consolidation' :1 , 'credit_card' : 2 , 'home_improvement' : 3 , 'small_business' : 4 , 'major_purchase': 5 , 'other' : 6 , 'medical' : 7 , 'wedding' : 8 , 'car' : 9 , 'moving' : 10 , 'house' : 11 , 'educational' : 12 ,'renewable_energy': 13}"
      ],
      "metadata": {
        "id": "Rmi1FeMiVJ56"
      },
      "execution_count": null,
      "outputs": []
    },
    {
      "cell_type": "code",
      "source": [
        "df['purpose'] = df['purpose'].map(d)"
      ],
      "metadata": {
        "id": "UVNkeAgueNZK"
      },
      "execution_count": null,
      "outputs": []
    },
    {
      "cell_type": "code",
      "source": [],
      "metadata": {
        "id": "z94no2kDei4I"
      },
      "execution_count": null,
      "outputs": []
    },
    {
      "cell_type": "code",
      "source": [
        "df['title'].value_counts()"
      ],
      "metadata": {
        "colab": {
          "base_uri": "https://localhost:8080/"
        },
        "id": "XJJWwRe1vz8C",
        "outputId": "3fb46e60-640c-45f0-a732-898c6bcf513a"
      },
      "execution_count": null,
      "outputs": [
        {
          "output_type": "execute_result",
          "data": {
            "text/plain": [
              "Debt consolidation            152472\n",
              "Credit card refinancing        51487\n",
              "Home improvement               15264\n",
              "Other                          12930\n",
              "Debt Consolidation             11608\n",
              "                               ...  \n",
              "Graduation/Travel Expenses         1\n",
              "Daughter's Wedding Bill            1\n",
              "gotta move                         1\n",
              "creditcardrefi                     1\n",
              "Toxic Debt Payoff                  1\n",
              "Name: title, Length: 48817, dtype: int64"
            ]
          },
          "metadata": {},
          "execution_count": 101
        }
      ]
    },
    {
      "cell_type": "code",
      "source": [
        "df['address']"
      ],
      "metadata": {
        "colab": {
          "base_uri": "https://localhost:8080/"
        },
        "id": "h-P3Rt0SwerZ",
        "outputId": "13c2191e-087e-4569-e123-94696f4de255"
      },
      "execution_count": null,
      "outputs": [
        {
          "output_type": "execute_result",
          "data": {
            "text/plain": [
              "0            0174 Michelle Gateway\\r\\nMendozaberg, OK 22690\n",
              "1         1076 Carney Fort Apt. 347\\r\\nLoganmouth, SD 05113\n",
              "2         87025 Mark Dale Apt. 269\\r\\nNew Sabrina, WV 05113\n",
              "3                   823 Reid Ford\\r\\nDelacruzside, MA 00813\n",
              "4                    679 Luna Roads\\r\\nGreggshire, VA 11650\n",
              "                                ...                        \n",
              "396025     12951 Williams Crossing\\r\\nJohnnyville, DC 30723\n",
              "396026    0114 Fowler Field Suite 028\\r\\nRachelborough, ...\n",
              "396027    953 Matthew Points Suite 414\\r\\nReedfort, NY 7...\n",
              "396028    7843 Blake Freeway Apt. 229\\r\\nNew Michael, FL...\n",
              "396029        787 Michelle Causeway\\r\\nBriannaton, AR 48052\n",
              "Name: address, Length: 396030, dtype: object"
            ]
          },
          "metadata": {},
          "execution_count": 102
        }
      ]
    },
    {
      "cell_type": "code",
      "source": [
        "df['int_rate']"
      ],
      "metadata": {
        "colab": {
          "base_uri": "https://localhost:8080/"
        },
        "id": "b27sThdHwhbT",
        "outputId": "0ea105f9-6ef3-4f2b-e26c-b8dac4663efe"
      },
      "execution_count": null,
      "outputs": [
        {
          "output_type": "execute_result",
          "data": {
            "text/plain": [
              "0         11.44\n",
              "1         11.99\n",
              "2         10.49\n",
              "3          6.49\n",
              "4         17.27\n",
              "          ...  \n",
              "396025    10.99\n",
              "396026    12.29\n",
              "396027     9.99\n",
              "396028    15.31\n",
              "396029    13.61\n",
              "Name: int_rate, Length: 396030, dtype: float64"
            ]
          },
          "metadata": {},
          "execution_count": 103
        }
      ]
    },
    {
      "cell_type": "code",
      "source": [
        "df['dti']"
      ],
      "metadata": {
        "colab": {
          "base_uri": "https://localhost:8080/"
        },
        "id": "fYVR1guN4SIC",
        "outputId": "854a45fc-46c1-4915-dd9d-b901855af175"
      },
      "execution_count": null,
      "outputs": [
        {
          "output_type": "execute_result",
          "data": {
            "text/plain": [
              "0         26.24\n",
              "1         22.05\n",
              "2         12.79\n",
              "3          2.60\n",
              "4         33.95\n",
              "          ...  \n",
              "396025    15.63\n",
              "396026    21.45\n",
              "396027    17.56\n",
              "396028    15.88\n",
              "396029     8.32\n",
              "Name: dti, Length: 396030, dtype: float64"
            ]
          },
          "metadata": {},
          "execution_count": 104
        }
      ]
    },
    {
      "cell_type": "code",
      "source": [
        "df['earliest_cr_line']"
      ],
      "metadata": {
        "colab": {
          "base_uri": "https://localhost:8080/"
        },
        "id": "LwSl2Rof41QS",
        "outputId": "130035dc-6752-48ac-ce6f-7d99899ea769"
      },
      "execution_count": null,
      "outputs": [
        {
          "output_type": "execute_result",
          "data": {
            "text/plain": [
              "0         Jun-1990\n",
              "1         Jul-2004\n",
              "2         Aug-2007\n",
              "3         Sep-2006\n",
              "4         Mar-1999\n",
              "            ...   \n",
              "396025    Nov-2004\n",
              "396026    Feb-2006\n",
              "396027    Mar-1997\n",
              "396028    Nov-1990\n",
              "396029    Sep-1998\n",
              "Name: earliest_cr_line, Length: 396030, dtype: object"
            ]
          },
          "metadata": {},
          "execution_count": 41
        }
      ]
    },
    {
      "cell_type": "code",
      "source": [
        "df['open_acc']"
      ],
      "metadata": {
        "colab": {
          "base_uri": "https://localhost:8080/"
        },
        "id": "Yuo7B1lc5KG4",
        "outputId": "406827d7-eed8-4938-b440-433791c8bcb2"
      },
      "execution_count": null,
      "outputs": [
        {
          "output_type": "execute_result",
          "data": {
            "text/plain": [
              "0         16.0\n",
              "1         17.0\n",
              "2         13.0\n",
              "3          6.0\n",
              "4         13.0\n",
              "          ... \n",
              "396025     6.0\n",
              "396026     6.0\n",
              "396027    15.0\n",
              "396028     9.0\n",
              "396029     3.0\n",
              "Name: open_acc, Length: 396030, dtype: float64"
            ]
          },
          "metadata": {},
          "execution_count": 42
        }
      ]
    },
    {
      "cell_type": "code",
      "source": [
        "df['pub_rec'].value_counts()"
      ],
      "metadata": {
        "colab": {
          "base_uri": "https://localhost:8080/"
        },
        "id": "gqLmucFW5aqc",
        "outputId": "8d7d3d2a-2d20-48a9-845b-bca75381958e"
      },
      "execution_count": null,
      "outputs": [
        {
          "output_type": "execute_result",
          "data": {
            "text/plain": [
              "0.0     338272\n",
              "1.0      49739\n",
              "2.0       5476\n",
              "3.0       1521\n",
              "4.0        527\n",
              "5.0        237\n",
              "6.0        122\n",
              "7.0         56\n",
              "8.0         34\n",
              "9.0         12\n",
              "10.0        11\n",
              "11.0         8\n",
              "13.0         4\n",
              "12.0         4\n",
              "19.0         2\n",
              "40.0         1\n",
              "17.0         1\n",
              "86.0         1\n",
              "24.0         1\n",
              "15.0         1\n",
              "Name: pub_rec, dtype: int64"
            ]
          },
          "metadata": {},
          "execution_count": 44
        }
      ]
    },
    {
      "cell_type": "code",
      "source": [
        "df['revol_bal']"
      ],
      "metadata": {
        "colab": {
          "base_uri": "https://localhost:8080/"
        },
        "id": "lzYgD_mZ5zns",
        "outputId": "ee4efd41-e4a7-48ae-dfd1-1533010e32bf"
      },
      "execution_count": null,
      "outputs": [
        {
          "output_type": "execute_result",
          "data": {
            "text/plain": [
              "0         36369.0\n",
              "1         20131.0\n",
              "2         11987.0\n",
              "3          5472.0\n",
              "4         24584.0\n",
              "           ...   \n",
              "396025     1990.0\n",
              "396026    43263.0\n",
              "396027    32704.0\n",
              "396028    15704.0\n",
              "396029     4292.0\n",
              "Name: revol_bal, Length: 396030, dtype: float64"
            ]
          },
          "metadata": {},
          "execution_count": 45
        }
      ]
    },
    {
      "cell_type": "code",
      "source": [
        "df['revol_util']"
      ],
      "metadata": {
        "colab": {
          "base_uri": "https://localhost:8080/"
        },
        "id": "GeISCIlr6E6O",
        "outputId": "9f70d4c0-5051-4a6c-c013-4504b9b8409d"
      },
      "execution_count": null,
      "outputs": [
        {
          "output_type": "execute_result",
          "data": {
            "text/plain": [
              "0         41.8\n",
              "1         53.3\n",
              "2         92.2\n",
              "3         21.5\n",
              "4         69.8\n",
              "          ... \n",
              "396025    34.3\n",
              "396026    95.7\n",
              "396027    66.9\n",
              "396028    53.8\n",
              "396029    91.3\n",
              "Name: revol_util, Length: 396030, dtype: float64"
            ]
          },
          "metadata": {},
          "execution_count": 5
        }
      ]
    },
    {
      "cell_type": "code",
      "source": [
        "df['total_acc']"
      ],
      "metadata": {
        "colab": {
          "base_uri": "https://localhost:8080/"
        },
        "id": "TnwZCcbI6Gzb",
        "outputId": "aa0dd3bf-453f-4ec9-9139-d127af294f62"
      },
      "execution_count": null,
      "outputs": [
        {
          "output_type": "execute_result",
          "data": {
            "text/plain": [
              "0         25.0\n",
              "1         27.0\n",
              "2         26.0\n",
              "3         13.0\n",
              "4         43.0\n",
              "          ... \n",
              "396025    23.0\n",
              "396026     8.0\n",
              "396027    23.0\n",
              "396028    20.0\n",
              "396029    19.0\n",
              "Name: total_acc, Length: 396030, dtype: float64"
            ]
          },
          "metadata": {},
          "execution_count": 47
        }
      ]
    },
    {
      "cell_type": "code",
      "source": [
        "df['revol_bal']"
      ],
      "metadata": {
        "colab": {
          "base_uri": "https://localhost:8080/"
        },
        "id": "qM5xE5DkqXom",
        "outputId": "fcc14558-b167-4695-b115-b500be4c217c"
      },
      "execution_count": null,
      "outputs": [
        {
          "output_type": "execute_result",
          "data": {
            "text/plain": [
              "0         36369.0\n",
              "1         20131.0\n",
              "2         11987.0\n",
              "3          5472.0\n",
              "4         24584.0\n",
              "           ...   \n",
              "396025     1990.0\n",
              "396026    43263.0\n",
              "396027    32704.0\n",
              "396028    15704.0\n",
              "396029     4292.0\n",
              "Name: revol_bal, Length: 396030, dtype: float64"
            ]
          },
          "metadata": {},
          "execution_count": 8
        }
      ]
    },
    {
      "cell_type": "code",
      "source": [
        "df['revol_util'].unique()"
      ],
      "metadata": {
        "id": "9E926dVh6V6C",
        "colab": {
          "base_uri": "https://localhost:8080/"
        },
        "outputId": "7fe6428c-a8e7-48c6-c203-b71aae65bffe"
      },
      "execution_count": null,
      "outputs": [
        {
          "output_type": "execute_result",
          "data": {
            "text/plain": [
              "array([ 41.8 ,  53.3 ,  92.2 , ...,  56.26, 111.4 , 128.1 ])"
            ]
          },
          "metadata": {},
          "execution_count": 10
        }
      ]
    },
    {
      "cell_type": "code",
      "source": [
        "df['total_acc'].unique()"
      ],
      "metadata": {
        "colab": {
          "base_uri": "https://localhost:8080/"
        },
        "id": "Xq8V2RHSsXdc",
        "outputId": "4dfaea95-24d9-4542-ab8d-f662cfba47a2"
      },
      "execution_count": null,
      "outputs": [
        {
          "output_type": "execute_result",
          "data": {
            "text/plain": [
              "array([ 25.,  27.,  26.,  13.,  43.,  23.,  15.,  40.,  37.,  61.,  35.,\n",
              "        22.,  20.,  36.,  38.,   7.,  18.,  10.,  17.,  29.,  16.,  21.,\n",
              "        34.,   9.,  14.,  59.,  41.,  19.,  12.,  30.,  56.,  24.,  28.,\n",
              "         8.,  52.,  31.,  44.,  39.,  50.,  11.,  62.,  32.,   5.,  33.,\n",
              "        46.,  42.,   6.,  49.,  45.,  57.,  48.,  67.,  47.,  51.,  58.,\n",
              "         3.,  55.,  63.,  53.,   4.,  71.,  69.,  54.,  64.,  81.,  72.,\n",
              "        60.,  68.,  65.,  73.,  78.,  84.,   2.,  76.,  75.,  79.,  87.,\n",
              "        77., 104.,  89.,  70., 105.,  97.,  66., 108.,  74.,  80.,  82.,\n",
              "        91.,  93., 106.,  90.,  85.,  88.,  83., 111.,  86., 101., 135.,\n",
              "        92.,  94.,  95.,  99., 102., 129., 110., 124., 151., 107., 118.,\n",
              "       150., 115., 117.,  96.,  98., 100., 116., 103.])"
            ]
          },
          "metadata": {},
          "execution_count": 12
        }
      ]
    },
    {
      "cell_type": "code",
      "source": [
        "df['initial_list_status'].unique()"
      ],
      "metadata": {
        "colab": {
          "base_uri": "https://localhost:8080/"
        },
        "id": "5PgU8frRslhQ",
        "outputId": "73409962-7925-455a-9ed7-4a767669da5d"
      },
      "execution_count": null,
      "outputs": [
        {
          "output_type": "execute_result",
          "data": {
            "text/plain": [
              "array([0, 1], dtype=int64)"
            ]
          },
          "metadata": {},
          "execution_count": 108
        }
      ]
    },
    {
      "cell_type": "code",
      "source": [
        "d = {'w' : 0 , 'f':1}"
      ],
      "metadata": {
        "id": "cBkTEYUPf8db"
      },
      "execution_count": null,
      "outputs": []
    },
    {
      "cell_type": "code",
      "source": [
        "df['initial_list_status'] = df['initial_list_status'].map(d)"
      ],
      "metadata": {
        "id": "LlvGihvygMg8"
      },
      "execution_count": null,
      "outputs": []
    },
    {
      "cell_type": "code",
      "source": [],
      "metadata": {
        "id": "v8Wq4wSege_X"
      },
      "execution_count": null,
      "outputs": []
    },
    {
      "cell_type": "code",
      "source": [
        "df['application_type'].unique()"
      ],
      "metadata": {
        "colab": {
          "base_uri": "https://localhost:8080/"
        },
        "id": "RrP4Uh7ks3Kq",
        "outputId": "473d6b3e-ab06-49ae-8499-67d17c78eb59"
      },
      "execution_count": null,
      "outputs": [
        {
          "output_type": "execute_result",
          "data": {
            "text/plain": [
              "array([0, 1, 2], dtype=int64)"
            ]
          },
          "metadata": {},
          "execution_count": 113
        }
      ]
    },
    {
      "cell_type": "code",
      "source": [
        "d = {'INDIVIDUAL' : 0 , 'JOINT' : 1 , 'DIRECT_PAY':2}"
      ],
      "metadata": {
        "id": "IicT1EEjgrOk"
      },
      "execution_count": null,
      "outputs": []
    },
    {
      "cell_type": "code",
      "source": [
        "df['application_type'] = df['application_type'].map(d)"
      ],
      "metadata": {
        "id": "AicRmZN7hLIq"
      },
      "execution_count": null,
      "outputs": []
    },
    {
      "cell_type": "code",
      "source": [
        "df['mort_acc'].unique()"
      ],
      "metadata": {
        "colab": {
          "base_uri": "https://localhost:8080/"
        },
        "id": "5bZgQe58tPIV",
        "outputId": "798722f6-a634-4a13-a39c-3d7ddba3a351"
      },
      "execution_count": null,
      "outputs": [
        {
          "output_type": "execute_result",
          "data": {
            "text/plain": [
              "array([ 0.,  3.,  1.,  4.,  2.,  6.,  5., nan, 10.,  7., 12., 11.,  8.,\n",
              "        9., 13., 14., 22., 34., 15., 25., 19., 16., 17., 32., 18., 24.,\n",
              "       21., 20., 31., 28., 30., 23., 26., 27.])"
            ]
          },
          "metadata": {},
          "execution_count": 114
        }
      ]
    },
    {
      "cell_type": "code",
      "source": [
        "df['address']"
      ],
      "metadata": {
        "colab": {
          "base_uri": "https://localhost:8080/"
        },
        "id": "i7nd1NUktX5i",
        "outputId": "d1bee389-58e0-49f1-bfb7-06041e70f498"
      },
      "execution_count": null,
      "outputs": [
        {
          "output_type": "execute_result",
          "data": {
            "text/plain": [
              "0            0174 Michelle Gateway\\r\\nMendozaberg, OK 22690\n",
              "1         1076 Carney Fort Apt. 347\\r\\nLoganmouth, SD 05113\n",
              "2         87025 Mark Dale Apt. 269\\r\\nNew Sabrina, WV 05113\n",
              "3                   823 Reid Ford\\r\\nDelacruzside, MA 00813\n",
              "4                    679 Luna Roads\\r\\nGreggshire, VA 11650\n",
              "                                ...                        \n",
              "396025     12951 Williams Crossing\\r\\nJohnnyville, DC 30723\n",
              "396026    0114 Fowler Field Suite 028\\r\\nRachelborough, ...\n",
              "396027    953 Matthew Points Suite 414\\r\\nReedfort, NY 7...\n",
              "396028    7843 Blake Freeway Apt. 229\\r\\nNew Michael, FL...\n",
              "396029        787 Michelle Causeway\\r\\nBriannaton, AR 48052\n",
              "Name: address, Length: 396030, dtype: object"
            ]
          },
          "metadata": {},
          "execution_count": 115
        }
      ]
    },
    {
      "cell_type": "code",
      "source": [
        "df.corr()['loan_status'].sort_values()"
      ],
      "metadata": {
        "colab": {
          "base_uri": "https://localhost:8080/"
        },
        "id": "HVdcv_lcvKYF",
        "outputId": "c65c350e-c179-47e5-e7ba-04b46a50a82f"
      },
      "execution_count": null,
      "outputs": [
        {
          "output_type": "execute_result",
          "data": {
            "text/plain": [
              "mort_acc               -0.073111\n",
              "home_ownership         -0.068485\n",
              "annual_inc             -0.053432\n",
              "emp_length             -0.028938\n",
              "total_acc              -0.017893\n",
              "month                  -0.016368\n",
              "revol_bal              -0.010892\n",
              "purpose                -0.009769\n",
              "initial_list_status    -0.009489\n",
              "application_type        0.006315\n",
              "pub_rec_bankruptcies    0.009383\n",
              "pub_rec                 0.019933\n",
              "open_acc                0.028012\n",
              "installment             0.041082\n",
              "loan_amnt               0.059836\n",
              "year                    0.060502\n",
              "dti                     0.062413\n",
              "verification_status     0.077909\n",
              "revol_util              0.082373\n",
              "sub_grade               0.165812\n",
              "term                    0.173246\n",
              "int_rate                0.247758\n",
              "grade                   0.257286\n",
              "loan_status             1.000000\n",
              "Name: loan_status, dtype: float64"
            ]
          },
          "metadata": {},
          "execution_count": 127
        }
      ]
    },
    {
      "cell_type": "code",
      "source": [
        "df.corr()['loan_status'][:-1].sort_values().plot(kind = 'bar')"
      ],
      "metadata": {
        "colab": {
          "base_uri": "https://localhost:8080/",
          "height": 382
        },
        "id": "q6nUzp_QjsI4",
        "outputId": "782e22b5-32a8-43dc-bd30-3060bafa46ba"
      },
      "execution_count": null,
      "outputs": [
        {
          "output_type": "execute_result",
          "data": {
            "text/plain": [
              "<AxesSubplot:>"
            ]
          },
          "metadata": {},
          "execution_count": 128
        },
        {
          "output_type": "display_data",
          "data": {
            "text/plain": [
              "<Figure size 432x288 with 1 Axes>"
            ],
            "image/png": "[encoded data removed]"
          },
          "metadata": {
            "needs_background": "light"
          }
        }
      ]
    },
    {
      "cell_type": "code",
      "source": [
        "sns.heatmap(df.corr())"
      ],
      "metadata": {
        "colab": {
          "base_uri": "https://localhost:8080/",
          "height": 386
        },
        "id": "LqQl3DgRkTKu",
        "outputId": "eae6470b-ff79-47c3-e7ee-d9bfacd30988"
      },
      "execution_count": null,
      "outputs": [
        {
          "output_type": "execute_result",
          "data": {
            "text/plain": [
              "<AxesSubplot:>"
            ]
          },
          "metadata": {},
          "execution_count": 129
        },
        {
          "output_type": "display_data",
          "data": {
            "text/plain": [
              "<Figure size 432x288 with 2 Axes>"
            ],
            "image/png": "[encoded data removed]"
          },
          "metadata": {
            "needs_background": "light"
          }
        }
      ]
    },
    {
      "cell_type": "code",
      "source": [
        "sns.boxplot(x= 'loan_status' , y = 'grade' , data = df)"
      ],
      "metadata": {
        "colab": {
          "base_uri": "https://localhost:8080/",
          "height": 297
        },
        "id": "Js0WToz-kcjb",
        "outputId": "7f8fc47b-3ccb-458a-dd70-f4cacf5aedac"
      },
      "execution_count": null,
      "outputs": [
        {
          "output_type": "execute_result",
          "data": {
            "text/plain": [
              "<AxesSubplot:xlabel='loan_status', ylabel='grade'>"
            ]
          },
          "metadata": {},
          "execution_count": 132
        },
        {
          "output_type": "display_data",
          "data": {
            "text/plain": [
              "<Figure size 432x288 with 1 Axes>"
            ],
            "image/png": "[encoded data removed]"
          },
          "metadata": {
            "needs_background": "light"
          }
        }
      ]
    },
    {
      "cell_type": "code",
      "source": [
        "sns.boxplot( x = 'loan_status' , y  = 'int_rate' , data = df)"
      ],
      "metadata": {
        "colab": {
          "base_uri": "https://localhost:8080/",
          "height": 297
        },
        "id": "I0CK6yq2l3Oi",
        "outputId": "7d4496f2-3484-466f-a618-9b9969c77c69"
      },
      "execution_count": null,
      "outputs": [
        {
          "output_type": "execute_result",
          "data": {
            "text/plain": [
              "<AxesSubplot:xlabel='loan_status', ylabel='int_rate'>"
            ]
          },
          "metadata": {},
          "execution_count": 147
        },
        {
          "output_type": "display_data",
          "data": {
            "text/plain": [
              "<Figure size 432x288 with 1 Axes>"
            ],
            "image/png": "[encoded data removed]"
          },
          "metadata": {
            "needs_background": "light"
          }
        }
      ]
    },
    {
      "cell_type": "code",
      "source": [
        "sns.scatterplot( x = 'loan_status' , y = 'term' , data = df)"
      ],
      "metadata": {
        "colab": {
          "base_uri": "https://localhost:8080/",
          "height": 297
        },
        "id": "4DZDtH3Tm6Ur",
        "outputId": "ce098209-7360-4342-de6c-22eb1f0fd7eb"
      },
      "execution_count": null,
      "outputs": [
        {
          "output_type": "execute_result",
          "data": {
            "text/plain": [
              "<AxesSubplot:xlabel='loan_status'>"
            ]
          },
          "metadata": {},
          "execution_count": 148
        },
        {
          "output_type": "display_data",
          "data": {
            "text/plain": [
              "<Figure size 432x288 with 1 Axes>"
            ],
            "image/png": "[encoded data removed]"
          },
          "metadata": {
            "needs_background": "light"
          }
        }
      ]
    },
    {
      "cell_type": "code",
      "source": [],
      "metadata": {
        "id": "8G0JCvtH1EMQ"
      },
      "execution_count": null,
      "outputs": []
    }
  ]
}